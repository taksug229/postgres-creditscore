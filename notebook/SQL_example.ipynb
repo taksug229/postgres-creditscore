{
 "cells": [
  {
   "cell_type": "code",
   "execution_count": 1,
   "id": "20e415a2-2e80-41c8-b7a7-e7eb213de03c",
   "metadata": {},
   "outputs": [],
   "source": [
    "import os\n",
    "import sys\n",
    "sys.path.append('..')\n",
    "import pandas as pd\n",
    "import numpy as np\n",
    "from sqlalchemy import create_engine\n",
    "\n",
    "from scripts.functions import Tables, run_sql, revise_table, add_tables_safely\n",
    "import scripts.config as cfg"
   ]
  },
  {
   "cell_type": "markdown",
   "id": "49f6fd0d-d128-4567-8646-9f2b0a8d33d4",
   "metadata": {},
   "source": [
    "# Create SQL Tables"
   ]
  },
  {
   "cell_type": "code",
   "execution_count": 2,
   "id": "bb1194ae-47a8-4993-af4e-8037c6e1250d",
   "metadata": {},
   "outputs": [],
   "source": [
    "sql_drop_table = '''\n",
    "    DROP TABLE IF EXISTS demographic, debt, payment;\n",
    "    '''\n",
    "run_sql(sql_drop_table)"
   ]
  },
  {
   "cell_type": "code",
   "execution_count": 3,
   "id": "c406aa2f-1e06-40f6-929f-78ce41d6e16c",
   "metadata": {},
   "outputs": [],
   "source": [
    "sql_demo = '''\n",
    "      CREATE TABLE IF NOT EXISTS demographic (\n",
    "        customer_id INTEGER Not Null PRIMARY KEY,\n",
    "        age INTEGER,\n",
    "        monthlyincome INTEGER,\n",
    "        numberofdependents INTEGER\n",
    "      );\n",
    "      '''\n",
    "\n",
    "sql_debt = '''\n",
    "      CREATE TABLE IF NOT EXISTS debt (\n",
    "        customer_id INTEGER Not Null PRIMARY KEY,\n",
    "        seriousdlqin2yrs BOOLEAN,\n",
    "        numberoftime30_59dayspastduenotworse INTEGER,\n",
    "        numberoftime60_89dayspastduenotworse INTEGER,\n",
    "        numberoftimes90dayslate INTEGER\n",
    "      );\n",
    "      '''\n",
    "\n",
    "sql_payment = '''\n",
    "      CREATE TABLE IF NOT EXISTS payment (\n",
    "        customer_id INTEGER Not Null PRIMARY KEY,\n",
    "        debtratio DOUBLE PRECISION,\n",
    "        revolvingutilizationofunsecuredlines DOUBLE PRECISION,\n",
    "        numberofopencreditlinesandloans INTEGER,\n",
    "        numberrealestateloansorlines INTEGER\n",
    "      );\n",
    "      '''\n",
    "\n",
    "for sql in [sql_demo, sql_debt, sql_payment]:\n",
    "    run_sql(sql)"
   ]
  },
  {
   "cell_type": "markdown",
   "id": "b9f6e290-334c-47f6-977e-94a24d672e5d",
   "metadata": {},
   "source": [
    "# Import Table and Split"
   ]
  },
  {
   "cell_type": "code",
   "execution_count": 5,
   "id": "e4a1835a-8d36-4125-8c7a-e4d06ffdd44a",
   "metadata": {},
   "outputs": [],
   "source": [
    "table1 = Tables('../sample_data.csv')\n",
    "table1.split_tables()"
   ]
  },
  {
   "cell_type": "code",
   "execution_count": 6,
   "id": "bbfc744d-7834-4a01-906b-c08fe86c59ec",
   "metadata": {},
   "outputs": [
    {
     "data": {
      "text/html": [
       "<div>\n",
       "<style scoped>\n",
       "    .dataframe tbody tr th:only-of-type {\n",
       "        vertical-align: middle;\n",
       "    }\n",
       "\n",
       "    .dataframe tbody tr th {\n",
       "        vertical-align: top;\n",
       "    }\n",
       "\n",
       "    .dataframe thead th {\n",
       "        text-align: right;\n",
       "    }\n",
       "</style>\n",
       "<table border=\"1\" class=\"dataframe\">\n",
       "  <thead>\n",
       "    <tr style=\"text-align: right;\">\n",
       "      <th></th>\n",
       "      <th>customer_id</th>\n",
       "      <th>age</th>\n",
       "      <th>monthlyincome</th>\n",
       "      <th>numberofdependents</th>\n",
       "    </tr>\n",
       "  </thead>\n",
       "  <tbody>\n",
       "    <tr>\n",
       "      <th>0</th>\n",
       "      <td>1</td>\n",
       "      <td>45</td>\n",
       "      <td>9120.0</td>\n",
       "      <td>2</td>\n",
       "    </tr>\n",
       "    <tr>\n",
       "      <th>1</th>\n",
       "      <td>2</td>\n",
       "      <td>40</td>\n",
       "      <td>2600.0</td>\n",
       "      <td>1</td>\n",
       "    </tr>\n",
       "    <tr>\n",
       "      <th>2</th>\n",
       "      <td>3</td>\n",
       "      <td>38</td>\n",
       "      <td>3042.0</td>\n",
       "      <td>0</td>\n",
       "    </tr>\n",
       "    <tr>\n",
       "      <th>3</th>\n",
       "      <td>4</td>\n",
       "      <td>30</td>\n",
       "      <td>3300.0</td>\n",
       "      <td>0</td>\n",
       "    </tr>\n",
       "    <tr>\n",
       "      <th>4</th>\n",
       "      <td>5</td>\n",
       "      <td>49</td>\n",
       "      <td>63588.0</td>\n",
       "      <td>0</td>\n",
       "    </tr>\n",
       "  </tbody>\n",
       "</table>\n",
       "</div>"
      ],
      "text/plain": [
       "   customer_id  age  monthlyincome  numberofdependents\n",
       "0            1   45         9120.0                   2\n",
       "1            2   40         2600.0                   1\n",
       "2            3   38         3042.0                   0\n",
       "3            4   30         3300.0                   0\n",
       "4            5   49        63588.0                   0"
      ]
     },
     "execution_count": 6,
     "metadata": {},
     "output_type": "execute_result"
    }
   ],
   "source": [
    "table1.demographic_table.head()"
   ]
  },
  {
   "cell_type": "code",
   "execution_count": 7,
   "id": "72adf938-4035-4086-bbbd-2dd6bcaf5504",
   "metadata": {},
   "outputs": [
    {
     "data": {
      "text/html": [
       "<div>\n",
       "<style scoped>\n",
       "    .dataframe tbody tr th:only-of-type {\n",
       "        vertical-align: middle;\n",
       "    }\n",
       "\n",
       "    .dataframe tbody tr th {\n",
       "        vertical-align: top;\n",
       "    }\n",
       "\n",
       "    .dataframe thead th {\n",
       "        text-align: right;\n",
       "    }\n",
       "</style>\n",
       "<table border=\"1\" class=\"dataframe\">\n",
       "  <thead>\n",
       "    <tr style=\"text-align: right;\">\n",
       "      <th></th>\n",
       "      <th>customer_id</th>\n",
       "      <th>seriousdlqin2yrs</th>\n",
       "      <th>numberoftime30_59dayspastduenotworse</th>\n",
       "      <th>numberoftime60_89dayspastduenotworse</th>\n",
       "      <th>numberoftimes90dayslate</th>\n",
       "    </tr>\n",
       "  </thead>\n",
       "  <tbody>\n",
       "    <tr>\n",
       "      <th>0</th>\n",
       "      <td>1</td>\n",
       "      <td>True</td>\n",
       "      <td>2</td>\n",
       "      <td>0</td>\n",
       "      <td>0</td>\n",
       "    </tr>\n",
       "    <tr>\n",
       "      <th>1</th>\n",
       "      <td>2</td>\n",
       "      <td>False</td>\n",
       "      <td>0</td>\n",
       "      <td>0</td>\n",
       "      <td>0</td>\n",
       "    </tr>\n",
       "    <tr>\n",
       "      <th>2</th>\n",
       "      <td>3</td>\n",
       "      <td>False</td>\n",
       "      <td>1</td>\n",
       "      <td>0</td>\n",
       "      <td>1</td>\n",
       "    </tr>\n",
       "    <tr>\n",
       "      <th>3</th>\n",
       "      <td>4</td>\n",
       "      <td>False</td>\n",
       "      <td>0</td>\n",
       "      <td>0</td>\n",
       "      <td>0</td>\n",
       "    </tr>\n",
       "    <tr>\n",
       "      <th>4</th>\n",
       "      <td>5</td>\n",
       "      <td>False</td>\n",
       "      <td>1</td>\n",
       "      <td>0</td>\n",
       "      <td>0</td>\n",
       "    </tr>\n",
       "  </tbody>\n",
       "</table>\n",
       "</div>"
      ],
      "text/plain": [
       "   customer_id  seriousdlqin2yrs  numberoftime30_59dayspastduenotworse  \\\n",
       "0            1              True                                     2   \n",
       "1            2             False                                     0   \n",
       "2            3             False                                     1   \n",
       "3            4             False                                     0   \n",
       "4            5             False                                     1   \n",
       "\n",
       "   numberoftime60_89dayspastduenotworse  numberoftimes90dayslate  \n",
       "0                                     0                        0  \n",
       "1                                     0                        0  \n",
       "2                                     0                        1  \n",
       "3                                     0                        0  \n",
       "4                                     0                        0  "
      ]
     },
     "execution_count": 7,
     "metadata": {},
     "output_type": "execute_result"
    }
   ],
   "source": [
    "table1.debt_table.head()"
   ]
  },
  {
   "cell_type": "code",
   "execution_count": 8,
   "id": "3eacc243-411a-43df-9cad-88fdd2f06729",
   "metadata": {},
   "outputs": [
    {
     "data": {
      "text/html": [
       "<div>\n",
       "<style scoped>\n",
       "    .dataframe tbody tr th:only-of-type {\n",
       "        vertical-align: middle;\n",
       "    }\n",
       "\n",
       "    .dataframe tbody tr th {\n",
       "        vertical-align: top;\n",
       "    }\n",
       "\n",
       "    .dataframe thead th {\n",
       "        text-align: right;\n",
       "    }\n",
       "</style>\n",
       "<table border=\"1\" class=\"dataframe\">\n",
       "  <thead>\n",
       "    <tr style=\"text-align: right;\">\n",
       "      <th></th>\n",
       "      <th>customer_id</th>\n",
       "      <th>debtratio</th>\n",
       "      <th>revolvingutilizationofunsecuredlines</th>\n",
       "      <th>numberofopencreditlinesandloans</th>\n",
       "      <th>numberrealestateloansorlines</th>\n",
       "    </tr>\n",
       "  </thead>\n",
       "  <tbody>\n",
       "    <tr>\n",
       "      <th>0</th>\n",
       "      <td>1</td>\n",
       "      <td>0.802982</td>\n",
       "      <td>0.766127</td>\n",
       "      <td>13</td>\n",
       "      <td>6</td>\n",
       "    </tr>\n",
       "    <tr>\n",
       "      <th>1</th>\n",
       "      <td>2</td>\n",
       "      <td>0.121876</td>\n",
       "      <td>0.957151</td>\n",
       "      <td>4</td>\n",
       "      <td>0</td>\n",
       "    </tr>\n",
       "    <tr>\n",
       "      <th>2</th>\n",
       "      <td>3</td>\n",
       "      <td>0.085113</td>\n",
       "      <td>0.658180</td>\n",
       "      <td>2</td>\n",
       "      <td>0</td>\n",
       "    </tr>\n",
       "    <tr>\n",
       "      <th>3</th>\n",
       "      <td>4</td>\n",
       "      <td>0.036050</td>\n",
       "      <td>0.233810</td>\n",
       "      <td>5</td>\n",
       "      <td>0</td>\n",
       "    </tr>\n",
       "    <tr>\n",
       "      <th>4</th>\n",
       "      <td>5</td>\n",
       "      <td>0.024926</td>\n",
       "      <td>0.907239</td>\n",
       "      <td>7</td>\n",
       "      <td>1</td>\n",
       "    </tr>\n",
       "  </tbody>\n",
       "</table>\n",
       "</div>"
      ],
      "text/plain": [
       "   customer_id  debtratio  revolvingutilizationofunsecuredlines  \\\n",
       "0            1   0.802982                              0.766127   \n",
       "1            2   0.121876                              0.957151   \n",
       "2            3   0.085113                              0.658180   \n",
       "3            4   0.036050                              0.233810   \n",
       "4            5   0.024926                              0.907239   \n",
       "\n",
       "   numberofopencreditlinesandloans  numberrealestateloansorlines  \n",
       "0                               13                             6  \n",
       "1                                4                             0  \n",
       "2                                2                             0  \n",
       "3                                5                             0  \n",
       "4                                7                             1  "
      ]
     },
     "execution_count": 8,
     "metadata": {},
     "output_type": "execute_result"
    }
   ],
   "source": [
    "table1.payment_table.head()"
   ]
  },
  {
   "cell_type": "markdown",
   "id": "45752426-7c6d-4080-ad49-60572d531f48",
   "metadata": {},
   "source": [
    "# Append Tables to SQL"
   ]
  },
  {
   "cell_type": "code",
   "execution_count": 9,
   "id": "f095bb5f-abcc-4ab8-ac22-3d6333fc3272",
   "metadata": {},
   "outputs": [],
   "source": [
    "engine = create_engine(\n",
    "    f'postgresql://{cfg.postgres[\"user\"]}:'\\\n",
    "    f'{cfg.postgres[\"password\"]}'\\\n",
    "    f'@{cfg.postgres[\"host\"]}:'\\\n",
    "    f'{cfg.postgres[\"port\"]}/{cfg.postgres[\"dbname\"]}'\n",
    ")"
   ]
  },
  {
   "cell_type": "code",
   "execution_count": 10,
   "id": "87a88328-d686-42fb-bf31-f983ef9ea58c",
   "metadata": {},
   "outputs": [],
   "source": [
    "add_tables_safely(table_name='demographic', engine=engine, table=table1)\n",
    "add_tables_safely(table_name='debt', engine=engine, table=table1)\n",
    "add_tables_safely(table_name='payment', engine=engine, table=table1)"
   ]
  },
  {
   "cell_type": "markdown",
   "id": "580f0b88-939a-4fc1-9de9-66b9130ea255",
   "metadata": {},
   "source": [
    "# View Table from SQL"
   ]
  },
  {
   "cell_type": "code",
   "execution_count": 11,
   "id": "2bedf14b-278f-4612-9f3d-f29771f31f1a",
   "metadata": {},
   "outputs": [],
   "source": [
    "demo_df = pd.read_sql(sql='SELECT * FROM demographic;', con=engine)\n",
    "debt_df = pd.read_sql(sql='SELECT * FROM debt;', con=engine)\n",
    "paym_df = pd.read_sql(sql='SELECT * FROM payment;', con=engine)"
   ]
  },
  {
   "cell_type": "code",
   "execution_count": 12,
   "id": "82c88a05-f312-4601-8f86-e711143d9776",
   "metadata": {},
   "outputs": [
    {
     "data": {
      "text/html": [
       "<div>\n",
       "<style scoped>\n",
       "    .dataframe tbody tr th:only-of-type {\n",
       "        vertical-align: middle;\n",
       "    }\n",
       "\n",
       "    .dataframe tbody tr th {\n",
       "        vertical-align: top;\n",
       "    }\n",
       "\n",
       "    .dataframe thead th {\n",
       "        text-align: right;\n",
       "    }\n",
       "</style>\n",
       "<table border=\"1\" class=\"dataframe\">\n",
       "  <thead>\n",
       "    <tr style=\"text-align: right;\">\n",
       "      <th></th>\n",
       "      <th>customer_id</th>\n",
       "      <th>age</th>\n",
       "      <th>monthlyincome</th>\n",
       "      <th>numberofdependents</th>\n",
       "    </tr>\n",
       "  </thead>\n",
       "  <tbody>\n",
       "    <tr>\n",
       "      <th>0</th>\n",
       "      <td>1</td>\n",
       "      <td>45</td>\n",
       "      <td>9120.0</td>\n",
       "      <td>2.0</td>\n",
       "    </tr>\n",
       "    <tr>\n",
       "      <th>1</th>\n",
       "      <td>2</td>\n",
       "      <td>40</td>\n",
       "      <td>2600.0</td>\n",
       "      <td>1.0</td>\n",
       "    </tr>\n",
       "    <tr>\n",
       "      <th>2</th>\n",
       "      <td>3</td>\n",
       "      <td>38</td>\n",
       "      <td>3042.0</td>\n",
       "      <td>0.0</td>\n",
       "    </tr>\n",
       "    <tr>\n",
       "      <th>3</th>\n",
       "      <td>4</td>\n",
       "      <td>30</td>\n",
       "      <td>3300.0</td>\n",
       "      <td>0.0</td>\n",
       "    </tr>\n",
       "    <tr>\n",
       "      <th>4</th>\n",
       "      <td>5</td>\n",
       "      <td>49</td>\n",
       "      <td>63588.0</td>\n",
       "      <td>0.0</td>\n",
       "    </tr>\n",
       "  </tbody>\n",
       "</table>\n",
       "</div>"
      ],
      "text/plain": [
       "   customer_id  age  monthlyincome  numberofdependents\n",
       "0            1   45         9120.0                 2.0\n",
       "1            2   40         2600.0                 1.0\n",
       "2            3   38         3042.0                 0.0\n",
       "3            4   30         3300.0                 0.0\n",
       "4            5   49        63588.0                 0.0"
      ]
     },
     "execution_count": 12,
     "metadata": {},
     "output_type": "execute_result"
    }
   ],
   "source": [
    "demo_df.head()"
   ]
  },
  {
   "cell_type": "code",
   "execution_count": 13,
   "id": "8c71e246-e765-46a9-8f99-2b8913e9bbe3",
   "metadata": {},
   "outputs": [
    {
     "data": {
      "text/html": [
       "<div>\n",
       "<style scoped>\n",
       "    .dataframe tbody tr th:only-of-type {\n",
       "        vertical-align: middle;\n",
       "    }\n",
       "\n",
       "    .dataframe tbody tr th {\n",
       "        vertical-align: top;\n",
       "    }\n",
       "\n",
       "    .dataframe thead th {\n",
       "        text-align: right;\n",
       "    }\n",
       "</style>\n",
       "<table border=\"1\" class=\"dataframe\">\n",
       "  <thead>\n",
       "    <tr style=\"text-align: right;\">\n",
       "      <th></th>\n",
       "      <th>customer_id</th>\n",
       "      <th>seriousdlqin2yrs</th>\n",
       "      <th>numberoftime30_59dayspastduenotworse</th>\n",
       "      <th>numberoftime60_89dayspastduenotworse</th>\n",
       "      <th>numberoftimes90dayslate</th>\n",
       "    </tr>\n",
       "  </thead>\n",
       "  <tbody>\n",
       "    <tr>\n",
       "      <th>0</th>\n",
       "      <td>1</td>\n",
       "      <td>True</td>\n",
       "      <td>2</td>\n",
       "      <td>0</td>\n",
       "      <td>0</td>\n",
       "    </tr>\n",
       "    <tr>\n",
       "      <th>1</th>\n",
       "      <td>2</td>\n",
       "      <td>False</td>\n",
       "      <td>0</td>\n",
       "      <td>0</td>\n",
       "      <td>0</td>\n",
       "    </tr>\n",
       "    <tr>\n",
       "      <th>2</th>\n",
       "      <td>3</td>\n",
       "      <td>False</td>\n",
       "      <td>1</td>\n",
       "      <td>0</td>\n",
       "      <td>1</td>\n",
       "    </tr>\n",
       "    <tr>\n",
       "      <th>3</th>\n",
       "      <td>4</td>\n",
       "      <td>False</td>\n",
       "      <td>0</td>\n",
       "      <td>0</td>\n",
       "      <td>0</td>\n",
       "    </tr>\n",
       "    <tr>\n",
       "      <th>4</th>\n",
       "      <td>5</td>\n",
       "      <td>False</td>\n",
       "      <td>1</td>\n",
       "      <td>0</td>\n",
       "      <td>0</td>\n",
       "    </tr>\n",
       "  </tbody>\n",
       "</table>\n",
       "</div>"
      ],
      "text/plain": [
       "   customer_id  seriousdlqin2yrs  numberoftime30_59dayspastduenotworse  \\\n",
       "0            1              True                                     2   \n",
       "1            2             False                                     0   \n",
       "2            3             False                                     1   \n",
       "3            4             False                                     0   \n",
       "4            5             False                                     1   \n",
       "\n",
       "   numberoftime60_89dayspastduenotworse  numberoftimes90dayslate  \n",
       "0                                     0                        0  \n",
       "1                                     0                        0  \n",
       "2                                     0                        1  \n",
       "3                                     0                        0  \n",
       "4                                     0                        0  "
      ]
     },
     "execution_count": 13,
     "metadata": {},
     "output_type": "execute_result"
    }
   ],
   "source": [
    "debt_df.head()"
   ]
  },
  {
   "cell_type": "code",
   "execution_count": 14,
   "id": "cfb16086-d472-4366-9a58-678624ef93e9",
   "metadata": {},
   "outputs": [
    {
     "data": {
      "text/html": [
       "<div>\n",
       "<style scoped>\n",
       "    .dataframe tbody tr th:only-of-type {\n",
       "        vertical-align: middle;\n",
       "    }\n",
       "\n",
       "    .dataframe tbody tr th {\n",
       "        vertical-align: top;\n",
       "    }\n",
       "\n",
       "    .dataframe thead th {\n",
       "        text-align: right;\n",
       "    }\n",
       "</style>\n",
       "<table border=\"1\" class=\"dataframe\">\n",
       "  <thead>\n",
       "    <tr style=\"text-align: right;\">\n",
       "      <th></th>\n",
       "      <th>customer_id</th>\n",
       "      <th>debtratio</th>\n",
       "      <th>revolvingutilizationofunsecuredlines</th>\n",
       "      <th>numberofopencreditlinesandloans</th>\n",
       "      <th>numberrealestateloansorlines</th>\n",
       "    </tr>\n",
       "  </thead>\n",
       "  <tbody>\n",
       "    <tr>\n",
       "      <th>0</th>\n",
       "      <td>1</td>\n",
       "      <td>0.802982</td>\n",
       "      <td>0.766127</td>\n",
       "      <td>13</td>\n",
       "      <td>6</td>\n",
       "    </tr>\n",
       "    <tr>\n",
       "      <th>1</th>\n",
       "      <td>2</td>\n",
       "      <td>0.121876</td>\n",
       "      <td>0.957151</td>\n",
       "      <td>4</td>\n",
       "      <td>0</td>\n",
       "    </tr>\n",
       "    <tr>\n",
       "      <th>2</th>\n",
       "      <td>3</td>\n",
       "      <td>0.085113</td>\n",
       "      <td>0.658180</td>\n",
       "      <td>2</td>\n",
       "      <td>0</td>\n",
       "    </tr>\n",
       "    <tr>\n",
       "      <th>3</th>\n",
       "      <td>4</td>\n",
       "      <td>0.036050</td>\n",
       "      <td>0.233810</td>\n",
       "      <td>5</td>\n",
       "      <td>0</td>\n",
       "    </tr>\n",
       "    <tr>\n",
       "      <th>4</th>\n",
       "      <td>5</td>\n",
       "      <td>0.024926</td>\n",
       "      <td>0.907239</td>\n",
       "      <td>7</td>\n",
       "      <td>1</td>\n",
       "    </tr>\n",
       "  </tbody>\n",
       "</table>\n",
       "</div>"
      ],
      "text/plain": [
       "   customer_id  debtratio  revolvingutilizationofunsecuredlines  \\\n",
       "0            1   0.802982                              0.766127   \n",
       "1            2   0.121876                              0.957151   \n",
       "2            3   0.085113                              0.658180   \n",
       "3            4   0.036050                              0.233810   \n",
       "4            5   0.024926                              0.907239   \n",
       "\n",
       "   numberofopencreditlinesandloans  numberrealestateloansorlines  \n",
       "0                               13                             6  \n",
       "1                                4                             0  \n",
       "2                                2                             0  \n",
       "3                                5                             0  \n",
       "4                                7                             1  "
      ]
     },
     "execution_count": 14,
     "metadata": {},
     "output_type": "execute_result"
    }
   ],
   "source": [
    "paym_df.head()"
   ]
  },
  {
   "cell_type": "markdown",
   "id": "c0faf84b-6ca0-46fe-9a21-260077f9734d",
   "metadata": {},
   "source": [
    "# Add same data format to SQL"
   ]
  },
  {
   "cell_type": "code",
   "execution_count": 15,
   "id": "1fe9fa9b-2bd1-4601-9705-5dad58d51a8d",
   "metadata": {},
   "outputs": [],
   "source": [
    "table2 = Tables('../sample_data.csv')\n",
    "table2.split_tables()"
   ]
  },
  {
   "cell_type": "code",
   "execution_count": 16,
   "id": "361100c3-b6ed-4761-835b-a372cec2b3cc",
   "metadata": {},
   "outputs": [
    {
     "name": "stdout",
     "output_type": "stream",
     "text": [
      "<class 'pandas.core.frame.DataFrame'>\n",
      "RangeIndex: 150000 entries, 0 to 149999\n",
      "Data columns (total 4 columns):\n",
      " #   Column              Non-Null Count   Dtype  \n",
      "---  ------              --------------   -----  \n",
      " 0   customer_id         150000 non-null  int64  \n",
      " 1   age                 150000 non-null  int64  \n",
      " 2   monthlyincome       120269 non-null  float64\n",
      " 3   numberofdependents  146076 non-null  float64\n",
      "dtypes: float64(2), int64(2)\n",
      "memory usage: 4.6 MB\n"
     ]
    }
   ],
   "source": [
    "# Before\n",
    "demo_df.info()"
   ]
  },
  {
   "cell_type": "code",
   "execution_count": 17,
   "id": "1fbde017-7e49-4351-b7aa-ffbbe56ca0b1",
   "metadata": {},
   "outputs": [],
   "source": [
    "add_tables_safely(table_name='demographic', engine=engine, table=table2)"
   ]
  },
  {
   "cell_type": "code",
   "execution_count": 19,
   "id": "1afb1b4d-27f2-4296-914d-d12d34b432ab",
   "metadata": {},
   "outputs": [],
   "source": [
    "new_demo_df = pd.read_sql(sql='SELECT * FROM demographic;', con=engine)"
   ]
  },
  {
   "cell_type": "code",
   "execution_count": 20,
   "id": "79816ad1-1a5d-4de3-9b44-09c071c44ed3",
   "metadata": {},
   "outputs": [
    {
     "name": "stdout",
     "output_type": "stream",
     "text": [
      "<class 'pandas.core.frame.DataFrame'>\n",
      "RangeIndex: 300000 entries, 0 to 299999\n",
      "Data columns (total 4 columns):\n",
      " #   Column              Non-Null Count   Dtype  \n",
      "---  ------              --------------   -----  \n",
      " 0   customer_id         300000 non-null  int64  \n",
      " 1   age                 300000 non-null  int64  \n",
      " 2   monthlyincome       240538 non-null  float64\n",
      " 3   numberofdependents  292152 non-null  float64\n",
      "dtypes: float64(2), int64(2)\n",
      "memory usage: 9.2 MB\n"
     ]
    }
   ],
   "source": [
    "# After\n",
    "new_demo_df.info()"
   ]
  }
 ],
 "metadata": {
  "kernelspec": {
   "display_name": "Python 3 (ipykernel)",
   "language": "python",
   "name": "python3"
  },
  "language_info": {
   "codemirror_mode": {
    "name": "ipython",
    "version": 3
   },
   "file_extension": ".py",
   "mimetype": "text/x-python",
   "name": "python",
   "nbconvert_exporter": "python",
   "pygments_lexer": "ipython3",
   "version": "3.10.6"
  }
 },
 "nbformat": 4,
 "nbformat_minor": 5
}
